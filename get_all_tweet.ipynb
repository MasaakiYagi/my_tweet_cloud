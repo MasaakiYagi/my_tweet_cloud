{
 "cells": [
  {
   "cell_type": "code",
   "execution_count": 32,
   "metadata": {},
   "outputs": [],
   "source": [
    "# Libraries\n",
    "import tweepy\n",
    "import csv\n",
    "import pandas as pd\n",
    "import json\n",
    "from datetime import timedelta\n",
    "from tqdm import tqdm"
   ]
  },
  {
   "cell_type": "code",
   "execution_count": 33,
   "metadata": {},
   "outputs": [],
   "source": [
    "# 認証情報をJSONファイルから読み込み\n",
    "json_load = json.load(open('settings.json', 'r'))\n",
    "API_KEY = json_load[\"API_KEY\"]\n",
    "API_KEY_SECRET = json_load[\"API_KEY_SECRET\"]\n",
    "BEARER_TOKEN = json_load[\"BEARER_TOKEN\"]\n",
    "ACCESS_TOKEN = json_load[\"ACCESS_TOKEN\"]\n",
    "ACCESS_TOKEN_SECRET = json_load[\"ACCESS_TOKEN_SECRET\"]\n",
    "\n",
    "# 認証情報を設定\n",
    "auth = tweepy.OAuthHandler(API_KEY, API_KEY_SECRET)\n",
    "auth.set_access_token(ACCESS_TOKEN, ACCESS_TOKEN_SECRET)\n",
    "api = tweepy.API(auth)\n",
    "\n",
    "# その他\n",
    "OUTPUT_FILE = \"data/all_tweets.csv\""
   ]
  },
  {
   "cell_type": "code",
   "execution_count": 34,
   "metadata": {},
   "outputs": [],
   "source": [
    "#latest_tweets = api.user_timeline(count=200)"
   ]
  },
  {
   "cell_type": "code",
   "execution_count": 35,
   "metadata": {},
   "outputs": [],
   "source": [
    "#latest_tweets[0].created_at + timedelta(hours=+9)"
   ]
  },
  {
   "cell_type": "code",
   "execution_count": 36,
   "metadata": {},
   "outputs": [
    {
     "name": "stderr",
     "output_type": "stream",
     "text": [
      "100%|██████████| 3230/3230 [00:00<00:00, 202046.20it/s]\n"
     ]
    }
   ],
   "source": [
    "# 全ツイートを入れる空のリストを用意\n",
    "all_tweets    = []\n",
    "# 直近の200ツイート分を取得しておく\n",
    "latest_tweets = api.user_timeline(count=200)\n",
    "all_tweets.extend(latest_tweets)\n",
    "\n",
    "# 取得するツイートがなくなるまで続ける\n",
    "while len(latest_tweets)>0:\n",
    "    latest_tweets = api.user_timeline(count=200, max_id=all_tweets[-1].id-1)\n",
    "    all_tweets.extend(latest_tweets)\n",
    "\n",
    "with open(OUTPUT_FILE, 'w', newline='', encoding='utf_8_sig') as f:\n",
    "    writer = csv.writer(f)\n",
    "    writer.writerow(['date', 'tweet_text', '#characters', '#favorited', '#retweeted', 'hasImage'])\n",
    "    for tweet in tqdm(all_tweets):\n",
    "        if (tweet.text.startswith('RT')):\n",
    "            continue # RTはスキップ\n",
    "        else:\n",
    "            has_image        = 0 # 画像付きのツイートか\n",
    "            tweet_characters = tweet.text # ツイートの文字列\n",
    "            if 'media' in tweet.entities:\n",
    "                has_image = 1\n",
    "            if len(tweet.entities['urls']) > 0:\n",
    "                # urlは、文字数としてカウントしない\n",
    "                tweet_characters = tweet_characters.strip(tweet.entities['urls'][0]['url']).strip()\n",
    "            tweet_datetime = tweet.created_at + timedelta(hours=+9)\n",
    "            tweet_datetime = tweet_datetime.replace(tzinfo=None)\n",
    "            \n",
    "            writer.writerow([tweet_datetime ,tweet.text, len(tweet_characters), tweet.favorite_count, tweet.retweet_count, has_image])"
   ]
  }
 ],
 "metadata": {
  "kernelspec": {
   "display_name": "text_mining_env",
   "language": "python",
   "name": "python3"
  },
  "language_info": {
   "codemirror_mode": {
    "name": "ipython",
    "version": 3
   },
   "file_extension": ".py",
   "mimetype": "text/x-python",
   "name": "python",
   "nbconvert_exporter": "python",
   "pygments_lexer": "ipython3",
   "version": "3.9.12"
  },
  "orig_nbformat": 4,
  "vscode": {
   "interpreter": {
    "hash": "11de562e7f7b31501ac02c5f8a69931e07772ac90d4dcf22f4e95bb71187c177"
   }
  }
 },
 "nbformat": 4,
 "nbformat_minor": 2
}
