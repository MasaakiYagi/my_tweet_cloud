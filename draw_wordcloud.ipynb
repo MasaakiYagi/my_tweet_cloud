{
 "cells": [
  {
   "cell_type": "code",
   "execution_count": 62,
   "metadata": {},
   "outputs": [],
   "source": [
    "import MeCab\n",
    "from wordcloud import WordCloud\n",
    "import pandas as pd\n",
    "import datetime\n",
    "from dateutil.relativedelta import relativedelta\n",
    "import json"
   ]
  },
  {
   "cell_type": "code",
   "execution_count": 63,
   "metadata": {},
   "outputs": [],
   "source": [
    "json_load = json.load(open('settings.json', 'r'))\n",
    "CHASEN = json_load[\"CHASEN\"]\n",
    "IMG_PATH = \"img/\""
   ]
  },
  {
   "cell_type": "code",
   "execution_count": 64,
   "metadata": {},
   "outputs": [],
   "source": [
    "# tweetデータの読み込み\n",
    "TWEET_DATA_PATH = \"data/all_tweets.csv\"\n",
    "df = pd.read_csv(TWEET_DATA_PATH)\n",
    "df[\"date\"] = pd.to_datetime(df[\"date\"])"
   ]
  },
  {
   "cell_type": "code",
   "execution_count": 65,
   "metadata": {},
   "outputs": [],
   "source": [
    "# m = MeCab.Tagger (r\"-d '{}' -O chasen\".format(CHASEN))\n",
    "\n",
    "# # 一番ふるい日付を取得。年と月\n",
    "# oldedst_date = min(df[\"date\"])\n",
    "# oldedst_year = oldedst_date.year\n",
    "# oldedst_month = oldedst_date.month\n",
    "\n",
    "# # 期間開始日と終了日を生成\n",
    "# start_date = datetime.datetime(oldedst_year, oldedst_month, 1)\n",
    "# end_date = start_date + relativedelta(months=1, days=-1)\n",
    "\n",
    "# # 当該期間のデータ抽出\n",
    "# tweets = df[(df[\"date\"]>=start_date)&(df[\"date\"]<=end_date)][\"tweet_text\"]\n",
    "\n",
    "# word=\"\"\n",
    "\n",
    "# for tweet in tweets:\n",
    "#     node = m.parseToNode(tweet)\n",
    "#     while node:\n",
    "#         hinshi = node.feature.split(\",\")[0]\n",
    "#         #if hinshi in [\"名詞\",\"動詞\",\"形容詞\"]:\n",
    "#         if hinshi in [\"名詞\"]:\n",
    "#             origin = node.feature.split(\",\")[6]\n",
    "#             word = word + \" \" + origin\n",
    "#         node = node.next"
   ]
  },
  {
   "cell_type": "code",
   "execution_count": 66,
   "metadata": {},
   "outputs": [],
   "source": [
    "# # wordcloudで可視化\n",
    "# fpath = \"./ipaexg.ttf\"\n",
    "# wordcloud = WordCloud(background_color=\"white\",font_path=fpath, width=600,height=400,min_font_size=15)\n",
    "# wordcloud.generate(word)\n",
    "\n",
    "# wordcloud.to_file(\"./wordcloud.png\")"
   ]
  },
  {
   "cell_type": "code",
   "execution_count": 67,
   "metadata": {},
   "outputs": [
    {
     "ename": "ValueError",
     "evalue": "month must be in 1..12",
     "output_type": "error",
     "traceback": [
      "\u001b[1;31m---------------------------------------------------------------------------\u001b[0m",
      "\u001b[1;31mValueError\u001b[0m                                Traceback (most recent call last)",
      "\u001b[1;32mセル6 を d:\\OneDrive\\ドキュメント\\GitHub\\my_tweet_cloud\\draw_wordcloud.ipynb\u001b[0m in \u001b[0;36m<cell line: 12>\u001b[1;34m()\u001b[0m\n\u001b[0;32m     <a href='vscode-notebook-cell:/d%3A/OneDrive/%E3%83%89%E3%82%AD%E3%83%A5%E3%83%A1%E3%83%B3%E3%83%88/GitHub/my_tweet_cloud/draw_wordcloud.ipynb#X12sZmlsZQ%3D%3D?line=9'>10</a>\u001b[0m \u001b[39m# 本日から見た翌月初日を生成\u001b[39;00m\n\u001b[0;32m     <a href='vscode-notebook-cell:/d%3A/OneDrive/%E3%83%89%E3%82%AD%E3%83%A5%E3%83%A1%E3%83%B3%E3%83%88/GitHub/my_tweet_cloud/draw_wordcloud.ipynb#X12sZmlsZQ%3D%3D?line=10'>11</a>\u001b[0m now \u001b[39m=\u001b[39m datetime\u001b[39m.\u001b[39mdatetime\u001b[39m.\u001b[39mnow()\n\u001b[1;32m---> <a href='vscode-notebook-cell:/d%3A/OneDrive/%E3%83%89%E3%82%AD%E3%83%A5%E3%83%A1%E3%83%B3%E3%83%88/GitHub/my_tweet_cloud/draw_wordcloud.ipynb#X12sZmlsZQ%3D%3D?line=11'>12</a>\u001b[0m limit_date \u001b[39m=\u001b[39m datetime\u001b[39m.\u001b[39;49mdatetime(now\u001b[39m.\u001b[39;49myear, now\u001b[39m.\u001b[39;49myear, \u001b[39m1\u001b[39;49m) \u001b[39m+\u001b[39m relativedelta(months\u001b[39m=\u001b[39m\u001b[39m1\u001b[39m)\n\u001b[0;32m     <a href='vscode-notebook-cell:/d%3A/OneDrive/%E3%83%89%E3%82%AD%E3%83%A5%E3%83%A1%E3%83%B3%E3%83%88/GitHub/my_tweet_cloud/draw_wordcloud.ipynb#X12sZmlsZQ%3D%3D?line=13'>14</a>\u001b[0m cnt \u001b[39m=\u001b[39m \u001b[39m0\u001b[39m\n\u001b[0;32m     <a href='vscode-notebook-cell:/d%3A/OneDrive/%E3%83%89%E3%82%AD%E3%83%A5%E3%83%A1%E3%83%B3%E3%83%88/GitHub/my_tweet_cloud/draw_wordcloud.ipynb#X12sZmlsZQ%3D%3D?line=14'>15</a>\u001b[0m \u001b[39mwhile\u001b[39;00m start_date \u001b[39m<\u001b[39m limit_date:  \u001b[39m# 今日からみた翌月になったらループ終了\u001b[39;00m\n\u001b[0;32m     <a href='vscode-notebook-cell:/d%3A/OneDrive/%E3%83%89%E3%82%AD%E3%83%A5%E3%83%A1%E3%83%B3%E3%83%88/GitHub/my_tweet_cloud/draw_wordcloud.ipynb#X12sZmlsZQ%3D%3D?line=15'>16</a>\u001b[0m     \u001b[39m# 当該期間のデータ抽出\u001b[39;00m\n",
      "\u001b[1;31mValueError\u001b[0m: month must be in 1..12"
     ]
    }
   ],
   "source": [
    "m = MeCab.Tagger (r\"-d '{}' -O chasen\".format(CHASEN))\n",
    "\n",
    "# 一番ふるい日付を取得。年と月\n",
    "oldedst_date = min(df[\"date\"])\n",
    "\n",
    "# 期間開始日と終了日を生成\n",
    "start_date = datetime.datetime(oldedst_date.year, oldedst_date.month, 1)\n",
    "end_date = start_date + relativedelta(months=1, days=-1)\n",
    "\n",
    "# 本日から見た翌月初日を生成\n",
    "now = datetime.datetime.now()\n",
    "limit_date = datetime.datetime(now.year, now.month, 1) + relativedelta(months=1)\n",
    "\n",
    "cnt = 0\n",
    "while start_date < limit_date:  # 今日からみた翌月になったらループ終了\n",
    "    # 当該期間のデータ抽出\n",
    "    tweets = df[(df[\"date\"]>=start_date)&(df[\"date\"]<=end_date)][\"tweet_text\"]\n",
    "\n",
    "    # wordにわかちがいた名詞をスペース区切りで格納\n",
    "    word=\"\"\n",
    "    for tweet in tweets:\n",
    "        node = m.parseToNode(tweet)\n",
    "        while node:\n",
    "            hinshi = node.feature.split(\",\")[0]\n",
    "            #if hinshi in [\"名詞\",\"動詞\",\"形容詞\"]:\n",
    "            if hinshi in [\"名詞\"]:\n",
    "                origin = node.feature.split(\",\")[6]\n",
    "                word = word + \" \" + origin\n",
    "            node = node.next\n",
    "    \n",
    "    # wordcloudで可視化\n",
    "    fpath = \"./ipaexg.ttf\"\n",
    "    wordcloud = WordCloud(background_color=\"white\",font_path=fpath, width=600,height=400,min_font_size=15)\n",
    "    wordcloud.generate(word)\n",
    "    \n",
    "    # 画像保存\n",
    "    file_name = IMG_PATH + str(cnt) + \"_\" + str(start_date.year) + \"-\" + str(start_date.month) + \".png\"\n",
    "    wordcloud.to_file(file_name)\n",
    "    \n",
    "    # カーソル処理\n",
    "    cnt += 1\n",
    "    start_date += relativedelta(months=1)\n",
    "    end_date = start_date + relativedelta(months=1, days=-1)\n"
   ]
  }
 ],
 "metadata": {
  "kernelspec": {
   "display_name": "text_mining_env",
   "language": "python",
   "name": "python3"
  },
  "language_info": {
   "codemirror_mode": {
    "name": "ipython",
    "version": 3
   },
   "file_extension": ".py",
   "mimetype": "text/x-python",
   "name": "python",
   "nbconvert_exporter": "python",
   "pygments_lexer": "ipython3",
   "version": "3.9.12"
  },
  "orig_nbformat": 4,
  "vscode": {
   "interpreter": {
    "hash": "11de562e7f7b31501ac02c5f8a69931e07772ac90d4dcf22f4e95bb71187c177"
   }
  }
 },
 "nbformat": 4,
 "nbformat_minor": 2
}
